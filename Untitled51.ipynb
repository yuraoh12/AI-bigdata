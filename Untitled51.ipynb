{
  "nbformat": 4,
  "nbformat_minor": 0,
  "metadata": {
    "colab": {
      "private_outputs": true,
      "provenance": [],
      "gpuType": "T4",
      "authorship_tag": "ABX9TyMqUo8xxK424qi4kxDJ2qOP",
      "include_colab_link": true
    },
    "kernelspec": {
      "name": "python3",
      "display_name": "Python 3"
    },
    "language_info": {
      "name": "python"
    },
    "accelerator": "GPU"
  },
  "cells": [
    {
      "cell_type": "markdown",
      "metadata": {
        "id": "view-in-github",
        "colab_type": "text"
      },
      "source": [
        "<a href=\"https://colab.research.google.com/github/yuraoh12/AI-bigdata/blob/main/Untitled51.ipynb\" target=\"_parent\"><img src=\"https://colab.research.google.com/assets/colab-badge.svg\" alt=\"Open In Colab\"/></a>"
      ]
    },
    {
      "cell_type": "code",
      "execution_count": null,
      "metadata": {
        "id": "5L6tnq3IsA2t"
      },
      "outputs": [],
      "source": [
        "!git clone https://github.com/ultralytics/ultralytics"
      ]
    },
    {
      "cell_type": "code",
      "source": [
        "%cd /content/ultralytics"
      ],
      "metadata": {
        "id": "aX61o3ersVQi"
      },
      "execution_count": null,
      "outputs": []
    },
    {
      "cell_type": "code",
      "source": [
        "!pwd"
      ],
      "metadata": {
        "id": "5jLotALNsZv7"
      },
      "execution_count": null,
      "outputs": []
    },
    {
      "cell_type": "code",
      "source": [
        "!pip install -r requirements.txt\n",
        "!pip install ultralytics"
      ],
      "metadata": {
        "id": "vTjqdUyVsa5G"
      },
      "execution_count": null,
      "outputs": []
    },
    {
      "cell_type": "code",
      "source": [
        "!yolo predict"
      ],
      "metadata": {
        "id": "DzThBotIskRq"
      },
      "execution_count": null,
      "outputs": []
    },
    {
      "cell_type": "code",
      "source": [
        "!curl -L \"https://public.roboflow.com/ds/1qYOoZHrV3?key=dUH2eTlrfn\" > roboflow.zip; unzip roboflow.zip; rm roboflow.zip"
      ],
      "metadata": {
        "id": "5wiesZHPsqhr"
      },
      "execution_count": null,
      "outputs": []
    },
    {
      "cell_type": "code",
      "source": [
        "# train 폴더와 test 폴더 생성 확인\n",
        "!pwd\n",
        "from glob import glob\n",
        "\n",
        "train_img_list = glob('/content/ultralytics/train/images/*.jpg')\n",
        "train_txt_list = glob('/content/ultralytics/train/labels/*.txt')\n",
        "test_img_list = glob('/content/ultralytics/test/images/*.jpg')\n",
        "test_txt_list = glob('/content/ultralytics/test/labels/*.txt')\n",
        "\n",
        "print(len(train_img_list), len(test_img_list))\n",
        "print(len(test_txt_list), len(test_img_list))"
      ],
      "metadata": {
        "id": "v1JkLY8ttJRQ"
      },
      "execution_count": null,
      "outputs": []
    },
    {
      "cell_type": "code",
      "source": [
        "# train 데이터와 val 데이터 나누기\n",
        "from sklearn.model_selection import train_test_split\n",
        "\n",
        "train_img_list, val_img_list = train_test_split(train_img_list, test_size=0.2, random_state=2000)\n",
        "\n",
        "print(len(train_img_list), len(val_img_list))"
      ],
      "metadata": {
        "id": "lrSP1yMft6IA"
      },
      "execution_count": null,
      "outputs": []
    },
    {
      "cell_type": "code",
      "source": [
        "# 파일 쓰기\n",
        "with open('/content/ultralytics/train.txt', 'w') as f:\n",
        "  f.write('\\n'.join(train_img_list) + '\\n')\n",
        "\n",
        "with open('/content/ultralytics//val.txt', 'w') as f:\n",
        "  f.write('\\n'.join(val_img_list) + '\\n')"
      ],
      "metadata": {
        "id": "BPTMfTlgt7dE"
      },
      "execution_count": null,
      "outputs": []
    },
    {
      "cell_type": "code",
      "source": [
        "# yaml 파일 수정\n",
        "import yaml\n",
        "\n",
        "with open('/content/ultralytics/data.yaml', 'r') as f:\n",
        "  data = yaml.full_load(f) # yaml.load -> yaml.full_load\n",
        "\n",
        "print(data)\n",
        "\n",
        "data['train'] = '/content/ultralytics/train.txt'\n",
        "data['val'] = '/content/ultralytics//val.txt'\n",
        "\n",
        "with open('/content/ultralytics/data.yaml', 'w') as f:\n",
        "  yaml.dump(data, f)"
      ],
      "metadata": {
        "id": "Hf6SUQSit80a"
      },
      "execution_count": null,
      "outputs": []
    },
    {
      "cell_type": "code",
      "source": [
        "!pwd\n",
        "!yolo detect train data=data.yaml model=yolov8n.pt epochs=10 lr0=0.01"
      ],
      "metadata": {
        "id": "_axLfYlJvWlM"
      },
      "execution_count": null,
      "outputs": []
    },
    {
      "cell_type": "code",
      "source": [],
      "metadata": {
        "id": "zFLFdjn92EuG"
      },
      "execution_count": null,
      "outputs": []
    }
  ]
}