{
  "nbformat": 4,
  "nbformat_minor": 0,
  "metadata": {
    "colab": {
      "provenance": [],
      "include_colab_link": true
    },
    "kernelspec": {
      "name": "python3",
      "display_name": "Python 3"
    },
    "language_info": {
      "name": "python"
    }
  },
  "cells": [
    {
      "cell_type": "markdown",
      "metadata": {
        "id": "view-in-github",
        "colab_type": "text"
      },
      "source": [
        "<a href=\"https://colab.research.google.com/github/yuraoh12/AI-bigdata/blob/main/WebAPI%EC%8B%A4%EC%8A%B5.ipynb\" target=\"_parent\"><img src=\"https://colab.research.google.com/assets/colab-badge.svg\" alt=\"Open In Colab\"/></a>"
      ]
    },
    {
      "cell_type": "code",
      "execution_count": null,
      "metadata": {
        "colab": {
          "base_uri": "https://localhost:8080/",
          "height": 35
        },
        "id": "uQR_3OvPNqsH",
        "outputId": "3924fff6-9c3c-42c0-fc5b-c382b551f6a9"
      },
      "outputs": [
        {
          "output_type": "execute_result",
          "data": {
            "text/plain": [
              "'O7jNwhi5HptRZAX09Q5JklD9mnn5MWdjED5QFMRZNh9mdRIyLu2uaGBrzlclK001lfyssLTie5orFL+pKS5ogQ=='"
            ],
            "application/vnd.google.colaboratory.intrinsic+json": {
              "type": "string"
            }
          },
          "metadata": {},
          "execution_count": 8
        }
      ],
      "source": [
        "import requests\n",
        "\n",
        "API_KEY = '' # 자신의 인증키\n",
        "API_KEY_decode = requests.utils.unquote(API_KEY)\n",
        "API_KEY_decode"
      ]
    },
    {
      "cell_type": "code",
      "source": [
        "url = 'http://openapi.epost.go.kr/postal/retrieveNewAdressAreaCdService/retrieveNewAdressAreaCdService/getNewAddressListAreaCd'\n",
        "\n",
        "search_Se = \"road\"\n",
        "srch_wrd = \"둔산대로 135\"\n",
        "\n",
        "parameter = {\"ServiceKey\": API_KEY_decode, \"searchSe\" : search_Se, \"srchwrd\" : srch_wrd }\n",
        "result = requests.get(url, params = parameter)\n",
        "print(result) # 응답코드 확인\n",
        "xml_data = result.text\n",
        "xml_data"
      ],
      "metadata": {
        "id": "goXgZBjDXXBy"
      },
      "execution_count": null,
      "outputs": []
    },
    {
      "cell_type": "code",
      "source": [
        "!pip install xmltodict"
      ],
      "metadata": {
        "id": "LT4198prYx2X"
      },
      "execution_count": null,
      "outputs": []
    },
    {
      "cell_type": "code",
      "source": [
        "import xmltodict\n",
        "\n",
        "dict_data = xmltodict.parse(xml_data) # xml -> dict\n",
        "dict_data"
      ],
      "metadata": {
        "colab": {
          "base_uri": "https://localhost:8080/"
        },
        "id": "KIsXdaW9Y5PI",
        "outputId": "5577bd31-59e4-42ee-9e87-610a42c97a2c"
      },
      "execution_count": null,
      "outputs": [
        {
          "output_type": "execute_result",
          "data": {
            "text/plain": [
              "{'NewAddressListResponse': {'cmmMsgHeader': {'requestMsgId': None,\n",
              "   'responseMsgId': None,\n",
              "   'responseTime': '20231211:191710212',\n",
              "   'successYN': 'Y',\n",
              "   'returnCode': '00',\n",
              "   'errMsg': None,\n",
              "   'totalCount': '1',\n",
              "   'countPerPage': '10',\n",
              "   'totalPage': '1',\n",
              "   'currentPage': None},\n",
              "  'newAddressListAreaCd': {'zipNo': '35204',\n",
              "   'lnmAdres': '대전광역시 서구 둔산대로 135 (만년동, 대전예술의전당)',\n",
              "   'rnAdres': '대전광역시 서구 만년동 396 대전예술의전당'}}}"
            ]
          },
          "metadata": {},
          "execution_count": 6
        }
      ]
    },
    {
      "cell_type": "code",
      "source": [
        "address_list = dict_data['NewAddressListResponse']['newAddressListAreaCd']\n",
        "print(address_list)\n",
        "\n",
        "print(\"[입력한 도로명 주소]\", srch_wrd)\n",
        "print(\"[응답 데이터에서 추출한 결과]\")\n",
        "print(\"-우편번호\", address_list['zipNo'])\n",
        "print(\"-도로명주소\", address_list['lnmAdres'])\n",
        "print(\"-지번주소\", address_list['rnAdres'])"
      ],
      "metadata": {
        "colab": {
          "base_uri": "https://localhost:8080/"
        },
        "id": "JafxpZpXZeG6",
        "outputId": "3b95c4d1-3ec5-48b9-b1b9-47594883b27d"
      },
      "execution_count": null,
      "outputs": [
        {
          "output_type": "stream",
          "name": "stdout",
          "text": [
            "{'zipNo': '35204', 'lnmAdres': '대전광역시 서구 둔산대로 135 (만년동, 대전예술의전당)', 'rnAdres': '대전광역시 서구 만년동 396 대전예술의전당'}\n",
            "[입력한 도로명 주소] 둔산대로 135\n",
            "[응답 데이터에서 추출한 결과]\n",
            "-우편번호 35204\n",
            "-도로명주소 대전광역시 서구 둔산대로 135 (만년동, 대전예술의전당)\n",
            "-지번주소 대전광역시 서구 만년동 396 대전예술의전당\n"
          ]
        }
      ]
    },
    {
      "cell_type": "markdown",
      "source": [
        "날씨 정보 가져오기"
      ],
      "metadata": {
        "id": "PM4AYpYvc5yM"
      }
    },
    {
      "cell_type": "code",
      "source": [
        "import requests\n",
        "\n",
        "API_KEY = '' # 자신의 인증키\n",
        "API_KEY_decode = requests.utils.unquote(API_KEY)\n",
        "API_KEY_decode"
      ],
      "metadata": {
        "colab": {
          "base_uri": "https://localhost:8080/",
          "height": 35
        },
        "id": "p2bJWCYvc8jV",
        "outputId": "83412b1c-2fcb-4207-9fa4-2dfc88aa7e54"
      },
      "execution_count": null,
      "outputs": [
        {
          "output_type": "execute_result",
          "data": {
            "text/plain": [
              "'O7jNwhi5HptRZAX09Q5JklD9mnn5MWdjED5QFMRZNh9mdRIyLu2uaGBrzlclK001lfyssLTie5orFL+pKS5ogQ=='"
            ],
            "application/vnd.google.colaboratory.intrinsic+json": {
              "type": "string"
            }
          },
          "metadata": {},
          "execution_count": 33
        }
      ]
    },
    {
      "cell_type": "code",
      "source": [
        "!pip install pytz"
      ],
      "metadata": {
        "colab": {
          "base_uri": "https://localhost:8080/"
        },
        "id": "DNszisFBrZ7h",
        "outputId": "610ccbe0-cb12-453c-9292-32eda433a968"
      },
      "execution_count": null,
      "outputs": [
        {
          "output_type": "stream",
          "name": "stdout",
          "text": [
            "Requirement already satisfied: pytz in /usr/local/lib/python3.10/dist-packages (2023.3.post1)\n"
          ]
        }
      ]
    },
    {
      "cell_type": "code",
      "source": [
        "import json, datetime\n",
        "from pytz import timezone\n",
        "\n",
        "now = datetime.datetime.now()\n",
        "local_time = datetime.datetime.now(timezone('Asia/Seoul')) # 현재 한국 로컬 시간 적용\n",
        "print(local_time)\n",
        "\n",
        "date = \"{:%Y%m%d}\".format(local_time)\n",
        "time = \"{:%H00}\".format(local_time) # 분은 무시하고 시간만\n",
        "print(date, time)\n",
        "\n",
        "if (local_time.minute >= 30): # 현재 분이 30분 이전이면\n",
        "  time = \"{0}00\".format(local_time.hour) # 이전 시간의 정시로 설정\n",
        "else:\n",
        "  time = \"{0}00\".format(local_time.hour-1)\n",
        "\n",
        "url = 'http://apis.data.go.kr/1360000/VilageFcstInfoService_2.0/getUltraSrtNcst'\n",
        "\n",
        "baseDate = date\n",
        "print(baseDate, time)\n",
        "\n",
        "nx_val = 67 # 예보지점 x\n",
        "ny_val = 100 # 예보지점 y\n",
        "num_of_rows = 6\n",
        "page_no = 1\n",
        "output_type = \"JSON\" # XML 택 일\n",
        "\n",
        "parameter = {\"ServiceKey\":API_KEY_decode, \"pageNo\":page_no, \"numOfRows\":num_of_rows, \"dataType\":output_type,\n",
        "             \"base_date\":baseDate, \"base_time\":time, \"nx\":nx_val, \"ny\":ny_val\n",
        "            }\n",
        "r = requests.get(url, params=parameter)\n",
        "print(r)\n",
        "print(r.text)\n",
        "dict_data = r.json() # json -> dict\n",
        "dict_data"
      ],
      "metadata": {
        "id": "H7Y18aLxdEG-"
      },
      "execution_count": null,
      "outputs": []
    },
    {
      "cell_type": "code",
      "source": [
        "weather_items = dict_data['response']['body']['items']['item']\n",
        "print(weather_items)\n",
        "sky_cond = [\"맑음\", \"구름 조금\", \"구름 많음\", \"흐림\"]\n",
        "rain_type = [\"없음\", \"비\", \"진눈개비\", \"눈\"]\n",
        "\n",
        "print(\"[발표 날짜]: {}\".format(weather_items[0]['baseDate']))\n",
        "print(\"[발표 시간]: {}\".format(weather_items[0]['baseTime']))\n",
        "\n",
        "for k in range(len(weather_items)):\n",
        "  weather_item = weather_items[k]\n",
        "  obsrValue = weather_item['obsrValue']\n",
        "  if(weather_item['category'] == 'T1H'):\n",
        "    print(\"* 기온 : {}도\".format(obsrValue))\n",
        "  elif(weather_item['category'] == 'REH'):\n",
        "    print(\"* 습도 : {}퍼센트\".format(obsrValue))\n",
        "  elif(weather_item['category'] == 'SKY'):\n",
        "    print(sky_cond)\n",
        "    print(\"* 하늘 : {}\".format(sky_cond[obsrValue]-1))\n",
        "  elif(weather_item['category'] == 'PTY'):\n",
        "    print(rain_type)\n",
        "    print(obsrValue)\n",
        "    print(\"* 강수: {}\".format(rain_type[int(obsrValue)]))"
      ],
      "metadata": {
        "colab": {
          "base_uri": "https://localhost:8080/"
        },
        "id": "mmrIOSqNim2k",
        "outputId": "e46a9314-3ac9-4bdb-f07a-f4e7b5b76e84"
      },
      "execution_count": null,
      "outputs": [
        {
          "output_type": "stream",
          "name": "stdout",
          "text": [
            "[{'baseDate': '20231211', 'baseTime': '2000', 'category': 'PTY', 'nx': 67, 'ny': 100, 'obsrValue': '1'}, {'baseDate': '20231211', 'baseTime': '2000', 'category': 'REH', 'nx': 67, 'ny': 100, 'obsrValue': '95'}, {'baseDate': '20231211', 'baseTime': '2000', 'category': 'RN1', 'nx': 67, 'ny': 100, 'obsrValue': '1.8'}, {'baseDate': '20231211', 'baseTime': '2000', 'category': 'T1H', 'nx': 67, 'ny': 100, 'obsrValue': '10.9'}, {'baseDate': '20231211', 'baseTime': '2000', 'category': 'UUU', 'nx': 67, 'ny': 100, 'obsrValue': '-0.3'}, {'baseDate': '20231211', 'baseTime': '2000', 'category': 'VEC', 'nx': 67, 'ny': 100, 'obsrValue': '150'}]\n",
            "[발표 날짜]: 20231211\n",
            "[발표 시간]: 2000\n",
            "['없음', '비', '진눈개비', '눈']\n",
            "1\n",
            "* 강수: 비\n",
            "* 습도 : 95퍼센트\n",
            "* 기온 : 10.9도\n"
          ]
        }
      ]
    },
    {
      "cell_type": "code",
      "source": [
        "import requests\n",
        "\n",
        "API_KEY = '' # 자신의 인증키\n",
        "API_KEY_decode = requests.utils.unquote(API_KEY)\n",
        "API_KEY_decode"
      ],
      "metadata": {
        "colab": {
          "base_uri": "https://localhost:8080/",
          "height": 35
        },
        "id": "mR9lYhkgvxPX",
        "outputId": "63abff2e-03a9-4806-a001-ce7502cbaff6"
      },
      "execution_count": null,
      "outputs": [
        {
          "output_type": "execute_result",
          "data": {
            "text/plain": [
              "'O7jNwhi5HptRZAX09Q5JklD9mnn5MWdjED5QFMRZNh9mdRIyLu2uaGBrzlclK001lfyssLTie5orFL+pKS5ogQ=='"
            ],
            "application/vnd.google.colaboratory.intrinsic+json": {
              "type": "string"
            }
          },
          "metadata": {},
          "execution_count": 68
        }
      ]
    },
    {
      "cell_type": "code",
      "source": [
        "url = 'http://apis.data.go.kr/B552584/MsrstnInfoInqireSvc/getTMStdrCrdnt'\n",
        "\n",
        "umd_name = \"둔산동\"\n",
        "num_of_rows = 10 # 한 페이지에 포함된 결과 수\n",
        "page_no = 1 # 페이지 번호\n",
        "output_type = 'json'\n",
        "\n",
        "parameter = {\"serviceKey\": API_KEY_decode, \"returnType\":output_type, \"numOfRows\":num_of_rows,\n",
        "             \"pageNo\":page_no, \"umdName\":umd_name\n",
        "             }\n",
        "dict_data = requests.get(url, params = parameter).json()\n",
        "print(dict_data)\n",
        "dict_data['response']['body']['totalCount'] # 전체 결과의 개수\n",
        "total = dict_data['response']['body']['totalCount']\n",
        "#print(total)"
      ],
      "metadata": {
        "colab": {
          "base_uri": "https://localhost:8080/"
        },
        "id": "FXg6Cjb5v1kI",
        "outputId": "e1ccef3b-b131-4da7-8487-9ffaf6670aa8"
      },
      "execution_count": null,
      "outputs": [
        {
          "output_type": "stream",
          "name": "stdout",
          "text": [
            "{'response': {'body': {'totalCount': 2, 'items': [{'sggName': '동구', 'umdName': '둔산동', 'tmX': '352312.977745', 'tmY': '268781.356403', 'sidoName': '대구광역시'}, {'sggName': '서구', 'umdName': '둔산동', 'tmX': '234640.487848', 'tmY': '317347.979649', 'sidoName': '대전광역시'}], 'pageNo': 1, 'numOfRows': 10}, 'header': {'resultMsg': 'NORMAL_CODE', 'resultCode': '00'}}}\n"
          ]
        }
      ]
    },
    {
      "cell_type": "code",
      "source": [
        "print(\"[입력한 읍/면/동명]\", umd_name)\n",
        "print(\"[TM 기준 좌표 조회 결과]\")\n",
        "print(dict_data['response']['body']['totalCount'])\n",
        "dict_data['list'] = dict_data['response']['body']['items']\n",
        "print(dict_data['list'])\n",
        "\n",
        "for k in range(total):\n",
        "  sgg = dict_data['list'][k]['sggName']\n",
        "  umd = dict_data['list'][k]['umdName']\n",
        "  tmX = dict_data['list'][k]['tmX']\n",
        "  tmY = dict_data['list'][k]['tmY']\n",
        "  sido = dict_data['list'][k]['sidoName']\n",
        "\n",
        "  print('- 위치: {0} {1} {2}'.format(sido, sgg, umd))\n",
        "  print('- k = {0}, TM좌표(X, Y): {1} {2}\\n'.format(k, tmX, tmY))"
      ],
      "metadata": {
        "colab": {
          "base_uri": "https://localhost:8080/"
        },
        "id": "xrCA4XAqxhvJ",
        "outputId": "d7fc91da-9ce4-4520-cee5-545cb2a569d1"
      },
      "execution_count": null,
      "outputs": [
        {
          "output_type": "stream",
          "name": "stdout",
          "text": [
            "[입력한 읍/면/동명] 둔산동\n",
            "[TM 기준 좌표 조회 결과]\n",
            "2\n",
            "[{'sggName': '동구', 'umdName': '둔산동', 'tmX': '352312.977745', 'tmY': '268781.356403', 'sidoName': '대구광역시'}, {'sggName': '서구', 'umdName': '둔산동', 'tmX': '234640.487848', 'tmY': '317347.979649', 'sidoName': '대전광역시'}]\n",
            "- 위치: 대구광역시 동구 둔산동\n",
            "- k = 0, TM좌표(X, Y): 352312.977745 268781.356403\n",
            "\n",
            "- 위치: 대전광역시 서구 둔산동\n",
            "- k = 1, TM좌표(X, Y): 234640.487848 317347.979649\n",
            "\n"
          ]
        }
      ]
    },
    {
      "cell_type": "code",
      "source": [
        "k = 1 # 대전껄로\n",
        "TM_X = dict_data['list'][k]['tmX']\n",
        "TM_Y = dict_data['list'][k]['tmY']\n",
        "print(\"TM 좌표(X, Y : {0} {1}\".format(TM_X, TM_Y))"
      ],
      "metadata": {
        "colab": {
          "base_uri": "https://localhost:8080/"
        },
        "id": "EC-UmK0Dzo_j",
        "outputId": "15ec668f-db86-4329-a9b0-6f1ee17e7d61"
      },
      "execution_count": null,
      "outputs": [
        {
          "output_type": "stream",
          "name": "stdout",
          "text": [
            "TM 좌표(X, Y : 234640.487848 317347.979649\n"
          ]
        }
      ]
    },
    {
      "cell_type": "code",
      "source": [
        "# 근접측정소 찾기\n",
        "req_url = 'http://apis.data.go.kr/B552584/MsrstnInfoInqireSvc/getNearbyMsrstnList'\n",
        "\n",
        "x_value = TM_X\n",
        "y_value = TM_Y\n",
        "num_of_rows = 10 # 한 페이지에 포함된 결과 수\n",
        "page_no = 1 # 페이지 번호\n",
        "ver = 1.1 # 차후 확인\n",
        "output_type : 'json'\n",
        "\n",
        "req_parameter = {\"serviceKey\":API_KEY_decode, \"tmX\":x_value, \"tmY\":y_value, \"ver\":ver, \"returnType\":output_type}\n",
        "dict_data = requests.get(req_url, params = req_parameter).json()\n",
        "print(dict_data)\n",
        "print(\"해당 지역 근처에 있는 측정소의 개수\", dict_data['response']['body']['totalCount'])\n",
        "total2 = dict_data['response']['body']['totalCount']"
      ],
      "metadata": {
        "colab": {
          "base_uri": "https://localhost:8080/"
        },
        "id": "lYl-Ycu30Iif",
        "outputId": "0d35f781-6784-46d6-dccc-d0c848a2938b"
      },
      "execution_count": null,
      "outputs": [
        {
          "output_type": "stream",
          "name": "stdout",
          "text": [
            "{'response': {'body': {'totalCount': 3, 'items': [{'stationCode': '525172', 'tm': 0.4, 'addr': '대전 서구 둔산서로 84(근로자 종합복지회관) 근로자 종합복지회관(3층 옥상)', 'stationName': '둔산동'}, {'stationCode': '525141', 'tm': 2.1, 'addr': '대전 유성구 대학로 407 보건환경연구원 보건환경연구원', 'stationName': '구성동'}, {'stationCode': '525173', 'tm': 3, 'addr': '대전 서구 월평동160-5 도로변(월평자동차종합시장앞)', 'stationName': '월평동'}], 'pageNo': 1, 'numOfRows': 10}, 'header': {'resultMsg': 'NORMAL_CODE', 'resultCode': '00'}}}\n",
            "해당 지역 근처에 있는 측정소의 개수 3\n"
          ]
        }
      ]
    },
    {
      "cell_type": "code",
      "source": [
        "print(\"[측정소 정보]\")\n",
        "dict_data['list'] = dict_data['response']['body']['items']\n",
        "#print(dict_data['list'])\n",
        "\n",
        "for k in range(total2):\n",
        "  stationName = dict_data['list'][k]['stationName']\n",
        "  distance = dict_data['list'][k]['tm']\n",
        "  addr = dict_data['list'][k]['addr']\n",
        "  print(\"- 측정소 이름:{0}, 거리 {1}[km]\".format(stationName, distance))\n",
        "  print(\"- 측정소 주소:{0} \\n\".format(addr))"
      ],
      "metadata": {
        "colab": {
          "base_uri": "https://localhost:8080/"
        },
        "id": "X6ZAFloE1zJt",
        "outputId": "dfaeaf7e-944c-4a4b-b736-e45e2e5e9e5f"
      },
      "execution_count": null,
      "outputs": [
        {
          "output_type": "stream",
          "name": "stdout",
          "text": [
            "[측정소 정보]\n",
            "- 측정소 이름:둔산동, 거리 0.4[km]\n",
            "- 측정소 주소:대전 서구 둔산서로 84(근로자 종합복지회관) 근로자 종합복지회관(3층 옥상) \n",
            "\n",
            "- 측정소 이름:구성동, 거리 2.1[km]\n",
            "- 측정소 주소:대전 유성구 대학로 407 보건환경연구원 보건환경연구원 \n",
            "\n",
            "- 측정소 이름:월평동, 거리 3[km]\n",
            "- 측정소 주소:대전 서구 월평동160-5 도로변(월평자동차종합시장앞) \n",
            "\n"
          ]
        }
      ]
    }
  ]
}