{
  "nbformat": 4,
  "nbformat_minor": 0,
  "metadata": {
    "colab": {
      "provenance": [],
      "gpuType": "T4",
      "include_colab_link": true
    },
    "kernelspec": {
      "name": "python3",
      "display_name": "Python 3"
    },
    "language_info": {
      "name": "python"
    },
    "accelerator": "GPU"
  },
  "cells": [
    {
      "cell_type": "markdown",
      "metadata": {
        "id": "view-in-github",
        "colab_type": "text"
      },
      "source": [
        "<a href=\"https://colab.research.google.com/github/yuraoh12/AI-bigdata/blob/main/231121_GradCAM.ipynb\" target=\"_parent\"><img src=\"https://colab.research.google.com/assets/colab-badge.svg\" alt=\"Open In Colab\"/></a>"
      ]
    },
    {
      "cell_type": "code",
      "execution_count": null,
      "metadata": {
        "id": "wCuQlOCQKinN"
      },
      "outputs": [],
      "source": [
        "!wget https://github.com/kairess/toy-datasets/raw/master/dog-inflammation.zip\n",
        "!unzip -q dog-inflammation.zip"
      ]
    },
    {
      "cell_type": "code",
      "source": [
        "#dataloader\n",
        "from fastai.vision.all import *\n",
        "\n",
        "path = 'dog-inflammation'\n",
        "\n",
        "block = DataBlock(\n",
        "    blocks = (ImageBlock, CategoryBlock), # Input, Output\n",
        "    get_items = get_image_files, # PIL\n",
        "    get_y = parent_label, # 폴더\n",
        ")\n",
        "\n",
        "loader = block.dataloaders(path)\n",
        "\n",
        "loader.show_batch()"
      ],
      "metadata": {
        "id": "60ceyvNEKl9A"
      },
      "execution_count": null,
      "outputs": []
    },
    {
      "cell_type": "code",
      "source": [
        "# train # 전이 학습 - 파인 튜닝\n",
        "learn = vision_learner(loader, resnet18, metrics=accuracy)\n",
        "learn.fine_tune(epochs = 3)"
      ],
      "metadata": {
        "id": "0S1I-VH7KrMk"
      },
      "execution_count": null,
      "outputs": []
    },
    {
      "cell_type": "code",
      "source": [
        "# test result\n",
        "learn.show_results() # 위에가 정답"
      ],
      "metadata": {
        "id": "-fh-RUxVKySL"
      },
      "execution_count": null,
      "outputs": []
    },
    {
      "cell_type": "code",
      "source": [
        "# GradCAM\n",
        "neg_path = '/content/dog-inflammation/Negative/D0_03f7e7c0-60a5-11ec-8402-0a7404972c70.jpg'\n",
        "pos_path = '/content/dog-inflammation/Positive/D0_02fa7d26-60a5-11ec-8402-0a7404972c70.jpg'\n",
        "\n",
        "test_loader = loader.test_dl([neg_path, pos_path]) # 전처리\n",
        "\n",
        "neg_x, pos_x = next(iter(test_loader))[0]\n",
        "\n",
        "neg_x = neg_x.unsqueeze(0)\n",
        "pos_x = pos_x.unsqueeze(0)\n",
        "\n",
        "print(neg_x.shape, pos_x.shape)\n",
        "\n",
        "neg_img = Image.open(neg_path)\n",
        "pos_img = Image.open(pos_path)\n",
        "\n",
        "fig, ax = plt.subplots(1, 2, figsize=(12, 6))\n",
        "ax[0].imshow(neg_img)\n",
        "ax[0].axis('off')\n",
        "ax[1].imshow(pos_img)\n",
        "ax[1].axis('off')\n",
        "plt.tight_layout()\n",
        "plt.show()"
      ],
      "metadata": {
        "id": "Kv47MwvEK3h8"
      },
      "execution_count": null,
      "outputs": []
    },
    {
      "cell_type": "code",
      "source": [
        "class Hook():\n",
        "    def __init__(self, m):\n",
        "        self.hook = m.register_forward_hook(self.hook_func)\n",
        "    def hook_func(self, m, i, o):\n",
        "        self.stored = o.detach().clone()\n",
        "    def __enter__(self, *args):\n",
        "        return self\n",
        "    def __exit__(self, *args):\n",
        "        self.hook.remove()\n",
        "\n",
        "class HookBwd():\n",
        "    def __init__(self, m):\n",
        "        self.hook = m.register_backward_hook(self.hook_func)\n",
        "    def hook_func(self, m, gi, go):\n",
        "        self.stored = go[0].detach().clone()\n",
        "    def __enter__(self, *args):\n",
        "        return self\n",
        "    def __exit__(self, *args):\n",
        "        self.hook.remove()"
      ],
      "metadata": {
        "id": "1XEmRtWXK-9t"
      },
      "execution_count": null,
      "outputs": []
    },
    {
      "cell_type": "code",
      "source": [
        "def get_gradcam(x, location=-1): # 어느 레이어에서 뽑아낼껀지\n",
        "    with HookBwd(learn.model[0][location]) as hookg:\n",
        "        with Hook(learn.model[0][location]) as hook:\n",
        "            output = learn.model.eval()(x.cuda())\n",
        "            idx = torch.argmax(output)\n",
        "            act = hook.stored\n",
        "        output[0, idx].backward()\n",
        "        grad = hookg.stored\n",
        "\n",
        "    w = grad[0].mean(dim=[1, 2], keepdim=True)\n",
        "    heatmap = (w * act[0]).sum(0).detach().cpu()\n",
        "\n",
        "    return heatmap\n",
        "\n",
        "heatmap = get_gradcam(pos_x, location=-2)\n",
        "\n",
        "print(heatmap.shape)\n",
        "plt.imshow(heatmap, cmap='jet')\n",
        "plt.show()"
      ],
      "metadata": {
        "id": "flHQog8GLAf5"
      },
      "execution_count": null,
      "outputs": []
    },
    {
      "cell_type": "code",
      "source": [
        "# Positive\n",
        "img = Image.open(pos_path)\n",
        "\n",
        "fig, ax = plt.subplots(1, 2, figsize=(12, 6))\n",
        "ax[0].imshow(img)\n",
        "ax[0].axis('off')\n",
        "ax[1].imshow(img)\n",
        "ax[1].imshow(heatmap.cpu(), alpha=0.5, extent=(0,224,224,0),\n",
        "              interpolation='bilinear', cmap='jet')\n",
        "ax[1].axis('off')\n",
        "plt.tight_layout()\n",
        "plt.show()"
      ],
      "metadata": {
        "id": "aoFdMpVRLC09"
      },
      "execution_count": null,
      "outputs": []
    },
    {
      "cell_type": "code",
      "source": [
        "# Negative\n",
        "heatmap = get_gradcam(neg_x, location=-1)\n",
        "img = Image.open(neg_path)\n",
        "\n",
        "fig, ax = plt.subplots(1, 2, figsize=(12, 6))\n",
        "ax[0].imshow(img)\n",
        "ax[0].axis('off')\n",
        "ax[1].imshow(img)\n",
        "ax[1].imshow(heatmap.cpu(), alpha=0.5, extent=(0,224,224,0),\n",
        "              interpolation='bilinear', cmap='jet')\n",
        "ax[1].axis('off')\n",
        "plt.tight_layout()\n",
        "plt.show()"
      ],
      "metadata": {
        "id": "p5_NHXglLFMC"
      },
      "execution_count": null,
      "outputs": []
    }
  ]
}