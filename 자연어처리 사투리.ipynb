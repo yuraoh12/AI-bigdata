{
  "nbformat": 4,
  "nbformat_minor": 0,
  "metadata": {
    "colab": {
      "provenance": [],
      "include_colab_link": true
    },
    "kernelspec": {
      "name": "python3",
      "display_name": "Python 3"
    },
    "language_info": {
      "name": "python"
    }
  },
  "cells": [
    {
      "cell_type": "markdown",
      "metadata": {
        "id": "view-in-github",
        "colab_type": "text"
      },
      "source": [
        "<a href=\"https://colab.research.google.com/github/yuraoh12/AI-bigdata/blob/main/%EC%9E%90%EC%97%B0%EC%96%B4%EC%B2%98%EB%A6%AC%20%EC%82%AC%ED%88%AC%EB%A6%AC.ipynb\" target=\"_parent\"><img src=\"https://colab.research.google.com/assets/colab-badge.svg\" alt=\"Open In Colab\"/></a>"
      ]
    },
    {
      "cell_type": "code",
      "execution_count": null,
      "metadata": {
        "id": "TbXeh8nKyzrn",
        "colab": {
          "base_uri": "https://localhost:8080/",
          "height": 400
        },
        "outputId": "905178be-239c-444c-ba3d-0a0125a9e339"
      },
      "outputs": [
        {
          "output_type": "error",
          "ename": "ModuleNotFoundError",
          "evalue": "ignored",
          "traceback": [
            "\u001b[0;31m---------------------------------------------------------------------------\u001b[0m",
            "\u001b[0;31mModuleNotFoundError\u001b[0m                       Traceback (most recent call last)",
            "\u001b[0;32m<ipython-input-1-32c33de89d48>\u001b[0m in \u001b[0;36m<cell line: 7>\u001b[0;34m()\u001b[0m\n\u001b[1;32m      5\u001b[0m \u001b[0;32mimport\u001b[0m \u001b[0mmatplotlib\u001b[0m\u001b[0;34m.\u001b[0m\u001b[0mpyplot\u001b[0m \u001b[0;32mas\u001b[0m \u001b[0mplt\u001b[0m\u001b[0;34m\u001b[0m\u001b[0;34m\u001b[0m\u001b[0m\n\u001b[1;32m      6\u001b[0m \u001b[0;34m\u001b[0m\u001b[0m\n\u001b[0;32m----> 7\u001b[0;31m \u001b[0;32mfrom\u001b[0m \u001b[0mmodel\u001b[0m\u001b[0;34m.\u001b[0m\u001b[0mmodel_inference_v2\u001b[0m \u001b[0;32mimport\u001b[0m \u001b[0mTacotron2\u001b[0m\u001b[0;34m\u001b[0m\u001b[0;34m\u001b[0m\u001b[0m\n\u001b[0m\u001b[1;32m      8\u001b[0m \u001b[0;32mfrom\u001b[0m \u001b[0mvocoder\u001b[0m\u001b[0;34m.\u001b[0m\u001b[0mmodel\u001b[0m\u001b[0;34m.\u001b[0m\u001b[0mwaveglow\u001b[0m \u001b[0;32mimport\u001b[0m \u001b[0mWaveGlow\u001b[0m\u001b[0;34m\u001b[0m\u001b[0;34m\u001b[0m\u001b[0m\n\u001b[1;32m      9\u001b[0m \u001b[0;32mfrom\u001b[0m \u001b[0mvocoder\u001b[0m\u001b[0;34m.\u001b[0m\u001b[0mdenoiser_librosa\u001b[0m \u001b[0;32mimport\u001b[0m \u001b[0mDenoiser\u001b[0m\u001b[0;34m\u001b[0m\u001b[0;34m\u001b[0m\u001b[0m\n",
            "\u001b[0;31mModuleNotFoundError\u001b[0m: No module named 'model'",
            "",
            "\u001b[0;31m---------------------------------------------------------------------------\u001b[0;32m\nNOTE: If your import is failing due to a missing package, you can\nmanually install dependencies using either !pip or !apt.\n\nTo view examples of installing some common dependencies, click the\n\"Open Examples\" button below.\n\u001b[0;31m---------------------------------------------------------------------------\u001b[0m\n"
          ],
          "errorDetails": {
            "actions": [
              {
                "action": "open_url",
                "actionText": "Open Examples",
                "url": "/notebooks/snippets/importing_libraries.ipynb"
              }
            ]
          }
        }
      ],
      "source": [
        "import torch\n",
        "import numpy as np\n",
        "import librosa\n",
        "import librosa.display\n",
        "import matplotlib.pyplot as plt\n",
        "\n",
        "from model.model_inference_v2 import Tacotron2\n",
        "from vocoder.model.waveglow import WaveGlow\n",
        "from vocoder.denoiser_librosa import Denoiser\n",
        "from korean_text.korean_cleaner_cls import KoreanCleaner\n",
        "\n",
        "from text import text_to_sequence, sequence_to_text\n",
        "from utils.util import mode, to_var, to_arr\n",
        "\n",
        "from demo_proc import _convert_to_pcm16"
      ]
    },
    {
      "cell_type": "code",
      "source": [
        "device = 'cpu' # cuda\n",
        "\n",
        "# Tacotron2\n",
        "ckpt_dict = torch.load('logs/model/acoustic.ckpt', map_location=torch.device(device))\n",
        "model = Tacotron2()\n",
        "model.load_state_dict(ckpt_dict['model'])\n",
        "model = model.eval()\n",
        "\n",
        "# Vocoder\n",
        "ckpt_dict = torch.load('logs/model/vocoder.ckpt', map_location=torch.device(device))\n",
        "vocoder = WaveGlow()\n",
        "vocoder.load_state_dict(ckpt_dict['model'])\n",
        "vocoder = vocoder.remove_weightnorm(vocoder)\n",
        "vocoder.eval()\n",
        "denoiser = Denoiser(vocoder, 0.1)\n",
        "\n",
        "korean_cleaner = KoreanCleaner()"
      ],
      "metadata": {
        "id": "YJp5vlPN1ODn"
      },
      "execution_count": null,
      "outputs": []
    },
    {
      "cell_type": "code",
      "source": [
        "# 텍스트 전처리\n",
        "text = '헬로월드!'\n",
        "\n",
        "text = korean_cleaner.clean_text(text)\n",
        "\n",
        "print(text)"
      ],
      "metadata": {
        "id": "W_JaGpO21Vkw"
      },
      "execution_count": null,
      "outputs": []
    },
    {
      "cell_type": "code",
      "source": [
        "# 텍스트를 시쿼스로 변경\n",
        "sequence = text_to_sequence(text, ['multi_cleaner'])\n",
        "sequence = to_var(torch.IntTensor(sequence)[None, :]).long()\n",
        "\n",
        "print(sequence)"
      ],
      "metadata": {
        "id": "5HtQfMKJ1X6M"
      },
      "execution_count": null,
      "outputs": []
    },
    {
      "cell_type": "code",
      "source": [
        "# 추론\n",
        "sigma = 0.5\n",
        "strength = 10\n",
        "sample_rate = 22050\n",
        "\n",
        "with torch.no_grad():\n",
        "    _, mel_outputs_postnet, linear_outputs, _, alignments = model.inference(sequence)\n",
        "    wav = vocoder.infer(mel_outputs_postnet, sigma=sigma)\n",
        "\n",
        "    wav *= 32767. / max(0.01, torch.max(torch.abs(wav)))\n",
        "    wav = wav.squeeze()\n",
        "    wav = wav.cpu().detach().numpy().astype('float32')\n",
        "\n",
        "    wav = denoiser(wav, strength=strength)\n",
        "\n",
        "wav = np.append(wav, np.array([[0.0] * (sample_rate // 2)]))\n",
        "audio_duration = librosa.get_duration(wav, sample_rate)\n",
        "\n",
        "plt.figure(figsize=(14, 5))\n",
        "librosa.display.waveplot(wav, sr=sample_rate)"
      ],
      "metadata": {
        "id": "fzl7yXOY1c_H"
      },
      "execution_count": null,
      "outputs": []
    },
    {
      "cell_type": "code",
      "source": [
        "# 결과 파일 저장\n",
        "import IPython.display as ipd\n",
        "import soundfile as sf\n",
        "\n",
        "wav_file = wav.astype(np.int16)\n",
        "# sf.write('temp.wav', wav_file, sample_rate)\n",
        "\n",
        "ipd.Audio(wav_file, rate=sample_rate)"
      ],
      "metadata": {
        "id": "ExNdWOwa1gnJ"
      },
      "execution_count": null,
      "outputs": []
    }
  ]
}